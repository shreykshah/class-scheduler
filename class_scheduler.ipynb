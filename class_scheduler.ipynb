{
  "nbformat": 4,
  "nbformat_minor": 0,
  "metadata": {
    "colab": {
      "name": "class_scheduler.ipynb",
      "provenance": [],
      "collapsed_sections": [
        "6g_sJu9CDbj8",
        "nwDE17gpDXNm"
      ],
      "toc_visible": true
    },
    "kernelspec": {
      "name": "python3",
      "display_name": "Python 3"
    }
  },
  "cells": [
    {
      "cell_type": "markdown",
      "metadata": {
        "id": "vCFuaFXjIf5T",
        "colab_type": "text"
      },
      "source": [
        "# inputs"
      ]
    },
    {
      "cell_type": "markdown",
      "metadata": {
        "id": "JkYL7o59K_90",
        "colab_type": "text"
      },
      "source": [
        "Enter courses in the format `(\"course_name\", course_credits, [potential_semesters]`. Ensure the course names and semster names do not have a \"`_`\" (underscore) character. This is not checked, but will cause the program to fail using z3.\n",
        "\n",
        "Enter the semesters in the format `(semester_name, max_credits_this_semester)`. All semesters that exist in the courses list must be in the semesters list.\n",
        "\n",
        "Z3 generally runs slightly faster than max flow and has greater functionality (ie. nonsingular courses)."
      ]
    },
    {
      "cell_type": "code",
      "metadata": {
        "id": "IGjxoTK7r_-g",
        "colab_type": "code",
        "colab": {}
      },
      "source": [
        "courses = []\n",
        "courses.append((\"course name\", 1, [\"semester 1\", 2, \"test_sem_name\"]))\n",
        "              # course name, credits, semesters\n",
        "\n",
        "sems = []\n",
        "sems.append((\"semester 1\", 3))\n",
        "            #semester name, max credits to be taken this semester\n",
        "\n",
        "print(courses, sems, sep='\\n')"
      ],
      "execution_count": null,
      "outputs": []
    },
    {
      "cell_type": "markdown",
      "metadata": {
        "id": "6g_sJu9CDbj8",
        "colab_type": "text"
      },
      "source": [
        "# max flow"
      ]
    },
    {
      "cell_type": "code",
      "metadata": {
        "id": "r4NmOx3S3sJc",
        "colab_type": "code",
        "colab": {}
      },
      "source": [
        "!pip install ortools"
      ],
      "execution_count": null,
      "outputs": []
    },
    {
      "cell_type": "code",
      "metadata": {
        "id": "669THMss5X_8",
        "colab_type": "code",
        "colab": {}
      },
      "source": [
        "from ortools.graph import pywrapgraph"
      ],
      "execution_count": null,
      "outputs": []
    },
    {
      "cell_type": "code",
      "metadata": {
        "id": "V50DN5EpIpDs",
        "colab_type": "code",
        "colab": {}
      },
      "source": [
        "start_nodes = []\n",
        "end_nodes = []\n",
        "capacities = []"
      ],
      "execution_count": null,
      "outputs": []
    },
    {
      "cell_type": "code",
      "metadata": {
        "id": "Q9RsDZvmIxlD",
        "colab_type": "code",
        "colab": {}
      },
      "source": [
        "i = 2\n",
        "j = len(courses) + 2\n",
        "indexed = dict()"
      ],
      "execution_count": null,
      "outputs": []
    },
    {
      "cell_type": "code",
      "metadata": {
        "id": "__9WQAd6Nopc",
        "colab_type": "code",
        "colab": {}
      },
      "source": [
        "for course in courses:\n",
        "  # reject duplicate courses\n",
        "  if course[0] in indexed:\n",
        "    raise ValueException(\"repeated course listing '\" + course[0] + \"'\")\n",
        "  #double index course\n",
        "  indexed[str(course[0])] = i\n",
        "  indexed[i] = course[0]\n",
        "\n",
        "  for sem in course[2]:\n",
        "    #double index semester\n",
        "    if str(sem) not in indexed:\n",
        "      indexed[str(sem)] = j\n",
        "      indexed[j] = str(sem)\n",
        "      j += 1\n",
        "    #course to semester\n",
        "    start_nodes.append(i)\n",
        "    end_nodes.append(indexed[str(sem)])\n",
        "    capacities.append(course[1])\n",
        "  #source to course\n",
        "  start_nodes.append(0)\n",
        "  end_nodes.append(i)\n",
        "  capacities.append(course[1])\n",
        "  \n",
        "  i += 1"
      ],
      "execution_count": null,
      "outputs": []
    },
    {
      "cell_type": "code",
      "metadata": {
        "id": "8iUGWgDVI13E",
        "colab_type": "code",
        "colab": {}
      },
      "source": [
        "#semester to sink\n",
        "for sem_indv in sems:\n",
        "  start_nodes.append(indexed[str(sem_indv[0])])\n",
        "  end_nodes.append(1)\n",
        "  capacities.append(sem_indv[1])\n",
        "\n",
        "print(start_nodes, end_nodes, capacities)"
      ],
      "execution_count": null,
      "outputs": []
    },
    {
      "cell_type": "code",
      "metadata": {
        "id": "8tcoono-5DeG",
        "colab_type": "code",
        "colab": {}
      },
      "source": [
        "max_flow = pywrapgraph.SimpleMaxFlow()\n",
        "# Add each arc.\n",
        "for i in range(0, len(start_nodes)):\n",
        "  max_flow.AddArcWithCapacity(start_nodes[i], end_nodes[i], capacities[i])"
      ],
      "execution_count": null,
      "outputs": []
    },
    {
      "cell_type": "code",
      "metadata": {
        "id": "uxKxMFt06Ngb",
        "colab_type": "code",
        "colab": {}
      },
      "source": [
        "rets = dict()\n",
        "# Find the maximum flow\n",
        "if max_flow.Solve(0, 1) == max_flow.OPTIMAL:\n",
        "  for i in range(max_flow.NumArcs()):\n",
        "    if max_flow.Tail(i) > 1 and max_flow.Head(i) > 1 and max_flow.Flow(i) > 0:\n",
        "      if str(indexed[max_flow.Head(i)]) not in rets:\n",
        "        rets[indexed[max_flow.Head(i)]] = []\n",
        "      rets[indexed[max_flow.Head(i)]].append(indexed[max_flow.Tail(i)])\n",
        "  print(rets)\n",
        "else:\n",
        "  print('There was an issue with the max flow input.')"
      ],
      "execution_count": null,
      "outputs": []
    },
    {
      "cell_type": "markdown",
      "metadata": {
        "id": "nwDE17gpDXNm",
        "colab_type": "text"
      },
      "source": [
        "# z3"
      ]
    },
    {
      "cell_type": "code",
      "metadata": {
        "id": "rtLEiJifDlrR",
        "colab_type": "code",
        "colab": {}
      },
      "source": [
        "!pip install z3-solver\n",
        "from z3 import *"
      ],
      "execution_count": null,
      "outputs": []
    },
    {
      "cell_type": "code",
      "metadata": {
        "id": "tVC2poafDqqw",
        "colab_type": "code",
        "colab": {}
      },
      "source": [
        "s = Solver()\n",
        "semesters = {sem[0]: [] for sem in sems}"
      ],
      "execution_count": null,
      "outputs": []
    },
    {
      "cell_type": "code",
      "metadata": {
        "id": "VkG8mt9fFY1C",
        "colab_type": "code",
        "colab": {}
      },
      "source": [
        "#course mappings\n",
        "for course in courses:\n",
        "  course_list = []\n",
        "  for sem in course[2]:\n",
        "    course_list.append(If(Bool(str(course[0]) + \"_\" + str(sem)), course[1], 0))\n",
        "    semesters[sem].append(If(Bool(str(course[0])+\"_\"+str(sem)), course[1], 0))\n",
        "  s.add(Sum(course_list) == course[1])"
      ],
      "execution_count": null,
      "outputs": []
    },
    {
      "cell_type": "code",
      "metadata": {
        "id": "Cd2S0OkLKWUT",
        "colab_type": "code",
        "colab": {}
      },
      "source": [
        "#semester mappings\n",
        "for sem in sems:\n",
        "  s.add(Sum(semesters[sem[0]]) <= sem[1])"
      ],
      "execution_count": null,
      "outputs": []
    },
    {
      "cell_type": "code",
      "metadata": {
        "id": "bhIXwtTddk0y",
        "colab_type": "code",
        "colab": {}
      },
      "source": [
        "try:\n",
        "  print(s.check())\n",
        "  res = s.model()\n",
        "except Z3Exception:\n",
        "  raise ValueError('unsat - too many constraints, cannot fit all courses as given')"
      ],
      "execution_count": null,
      "outputs": []
    },
    {
      "cell_type": "code",
      "metadata": {
        "id": "CJCL_nSbeYwt",
        "colab_type": "code",
        "colab": {}
      },
      "source": [
        "rets = {str(sem[0]): [] for sem in sems}\n",
        "for x in res:\n",
        "  if res[x] == True:\n",
        "    pair = str(x).split('_')\n",
        "    rets[pair[1]].append(pair[0])"
      ],
      "execution_count": null,
      "outputs": []
    },
    {
      "cell_type": "markdown",
      "metadata": {
        "id": "lKZT6wT4upBm",
        "colab_type": "text"
      },
      "source": [
        "# print results"
      ]
    },
    {
      "cell_type": "code",
      "metadata": {
        "id": "9R3eqg7Funnt",
        "colab_type": "code",
        "colab": {}
      },
      "source": [
        "from pprint import pprint\n",
        "pprint(rets)"
      ],
      "execution_count": null,
      "outputs": []
    }
  ]
}